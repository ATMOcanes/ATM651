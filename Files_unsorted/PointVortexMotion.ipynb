{
 "cells": [
  {
   "cell_type": "markdown",
   "id": "93710357-9693-4c17-9260-ff47830b964c",
   "metadata": {},
   "source": [
    "# Point vortex solver\n",
    "### perhaps can be seeded from centroids of real vorticity contours\n",
    "#### with geographical x,y on which we can overlay a map  \n",
    "\n",
    "Tangential flow falls off as $C/2 \\pi r$ from a point vortex of circulation C, and we only need the velocity at the locations of all the point vortices to evolve the flow: a nice fast compuation. For display, one can reconstruct the flow field everywhere as the sum of all the point vortex-induced flows, for a visualization (streamlines or streamfunction or vectors). Simply must mask out the intense winds in the near-field of the point idealizations. "
   ]
  },
  {
   "cell_type": "code",
   "execution_count": 5,
   "id": "b7a50156-abca-4d80-8e08-cc8a761264b2",
   "metadata": {},
   "outputs": [],
   "source": [
    "# (in the movie, red(blue) dots represent point vortices of positive(negative) circulations, black dots are\n",
    "# tracer particels (their circulation is zero). Black + symbol represents the common circulation center.\n",
    "# Feel free to change the code!\n",
    "\n",
    "#  If you are interested in the topic of point vortex motion, please read through (and cite if appropriate) our \n",
    "#  publications:\n",
    "#\n",
    "#  Annette Mueller, Peter Nevir, Lisa Schielicke, Mirjam Hirt, Joscha Pueltz & Isabell Sonntag (2015) Applications\n",
    "#  of point vortex equilibria: blocking events and the stability of the polar vortex, Tellus A: Dynamic Meteorology \n",
    "#  and Oceanography, 67:1, DOI: 10.3402/tellusa.v67.29184 \n",
    "#  https://doi.org/10.3402/tellusa.v67.29184\n",
    "#\n",
    "#  Mirjam Hirt, Lisa Schielicke, Annette Mueller & Peter Nevir (2018) Statistics and dynamics of blockings with a \n",
    "#  point vortex model, Tellus A: Dynamic Meteorology and Oceanography, 70:1, 1-20, DOI: 10.1080/16000870.2018.1458565\n",
    "#  https://doi.org/10.1080/16000870.2018.1458565\n",
    "#\n",
    "#---------------------------------------------------------------------------------------------------------------------\n",
    "#  created: 23 Feb 2019 (Lisa Schielicke)\n",
    "#\t\t\t\t\t\t\n",
    "\n",
    "#---------------------------------------------------------------------------------------------------------------------\n",
    "# Copyright 2019 Lisa Schielicke, contact: lisa.schielicke@met.fu-berlin.de\n",
    "# Licensed under the Apache License, Version 2.0 (the \"License\");"
   ]
  },
  {
   "cell_type": "code",
   "execution_count": 6,
   "id": "8833d24a-e7b8-4b51-923d-889509002039",
   "metadata": {},
   "outputs": [],
   "source": [
    "import matplotlib.pyplot as plt\n",
    "from matplotlib import animation\n",
    "import numpy as np\n",
    "from scipy.integrate import odeint  # Ordinary DEs! "
   ]
  },
  {
   "cell_type": "markdown",
   "id": "ebb49a1e-9315-44b4-ae79-4115592511ac",
   "metadata": {},
   "source": [
    "## Here would go a block to turn a weather scenario into a set of point vortices"
   ]
  },
  {
   "cell_type": "code",
   "execution_count": 7,
   "id": "035b27d4-65b8-43da-8d84-898ac8c8cf52",
   "metadata": {},
   "outputs": [],
   "source": [
    "##################\n",
    "######## initial x,y-coordinates and circulations G of an N vortex system ##############################\n",
    "######################################################################################################################\n",
    "\n",
    "# Tracer particles have zero circulation:\n",
    "G=[-1.0*10**6,-0.1*10**6,0.5*10**6,1.3*10**6,-0.8*10**6,4*10**6,2*10**6,0,0,0,0,0]\n",
    "\n",
    "sizeofpointinplot=[10,1,5,13,8,25,16,2,2,2,2,2] # Please give a representative size, the point vortex \n",
    "                                                # should have in the plot. E.g., make the points\n",
    "                                                # bigger for larger absolute circulations\n",
    "\n",
    "# Be careful: Do not put two vortices (or tracers) at the same location! This will give errors.\n",
    "x=[0.,10000,15000,20000,25000,30000,35000,5000,13000,17000,24000,33000] #in m\n",
    "y=[0.,0,0,0,0,0,0,0,0,0,0,0]                         #in m\n",
    "\n",
    "# ODE solver parameters, change if necessary\n",
    "abserr = 1.0e-10    # absolute error measures of the ode solver\n",
    "relerr = 1.0e-10    # absolute error measures of the ode solver\n",
    "stoptime = 3600*1*1 # integration time in seconds\n",
    "numpoints = 300     # defines the time steps of the integration via: \n",
    "                    #    t=[stoptime*float(i)/(numpoints-1) for i in range(numpoints)]\n",
    "\n",
    "plottitle = 'Several point vortex system' #give a nice title for your plots"
   ]
  },
  {
   "cell_type": "markdown",
   "id": "464dcfab-0da3-4758-bbcd-bb4d5629c156",
   "metadata": {},
   "source": [
    "### pveq updates positions of the vortices"
   ]
  },
  {
   "cell_type": "code",
   "execution_count": 25,
   "id": "13e7f9c8-79eb-4837-a8c7-2c126008adeb",
   "metadata": {},
   "outputs": [],
   "source": [
    "def pveq(w, t, G):\n",
    "##########################################################################\n",
    "#  Defines the differential equations for a point vortex system of N points\n",
    "#\n",
    "#  Arguments:\n",
    "#        w :  vector of the x,y-coordinates of each point vortex:\n",
    "#                  w = [x1,y1,x2,y2]\n",
    "#        t :  time\n",
    "#        G :  vector of the N circulations\n",
    "##########################################################################\n",
    "  x = w[0::2] #    x : vector of the x-coordinates of the N point vortices\n",
    "  y = w[1::2] #    y : vector of the y-coordinates of the N point vortices\n",
    "#\n",
    "# Create f = (x1',u1',y1',v1',x2',u2',y2',v2',...,xN',uN',yN',vN'):\n",
    "  f=[]\n",
    "  for j in range(0,len(G)):\n",
    "    # calculate the realtive distance between point vortex j and all other point vortices\n",
    "    disty=y[j]-y \n",
    "    distx=x[j]-x\n",
    "    reldistsq=disty**2+distx**2\n",
    "    # calculate the new coordinates (point vortex equations for [x- , y-coordinate])\n",
    "    f.extend([-1/(2*np.pi)*np.sum(G[reldistsq!=0]*disty[reldistsq!=0]/(reldistsq[reldistsq!=0])),\n",
    "               1/(2*np.pi)*np.sum(G[reldistsq!=0]*distx[reldistsq!=0]/(reldistsq[reldistsq!=0]))])\n",
    "\n",
    "  return f"
   ]
  },
  {
   "cell_type": "markdown",
   "id": "2dfa38c7-e451-48fe-bd9b-3a577a53d08c",
   "metadata": {},
   "source": [
    "### centroid of circulation (it doesn't move) "
   ]
  },
  {
   "cell_type": "code",
   "execution_count": 9,
   "id": "b49b6cb7-3a1e-4a25-8cc3-995b7dd654d4",
   "metadata": {},
   "outputs": [],
   "source": [
    "#calculate the coordinates of the common center of circulation\n",
    "Circcenterx=np.sum(np.asarray(G[:])*np.asarray(x[:]))/np.sum(np.asarray(G[:]))\n",
    "Circcentery=np.sum(np.asarray(G[:])*np.asarray(y[:]))/np.sum(np.asarray(G[:]))\n"
   ]
  },
  {
   "cell_type": "markdown",
   "id": "6e8192da-d3b6-4f4c-9243-9fd202fcbd44",
   "metadata": {},
   "source": [
    "# The solver!\n",
    "\n",
    "### DO ME: add other influences relevant to weather: flow not due to an interior vortex, and beta effect\n",
    "\n",
    "1. What flow is not due to vorticity within a limited area? The mean vector averaged over that whole area, I suppose. One could just move the centroid according to that mean flow. \n",
    "\n",
    "2. Vortices could change their strength by converting planetary to relative vorticity, beta*y.  "
   ]
  },
  {
   "cell_type": "code",
   "execution_count": 10,
   "id": "076321b7-f884-4753-bab9-2dc82d8d09e7",
   "metadata": {},
   "outputs": [],
   "source": [
    "# Create the time samples for the output of the ODE solver.\n",
    "t = [stoptime * float(i) / (numpoints - 1) for i in range(numpoints)]\n",
    "w0 = []\n",
    "for i in range(0,len(G)):\n",
    "  w0.append(x[i])\n",
    "  w0.append(y[i])\n",
    "\n",
    "difft=np.diff(t)[0]\n",
    "\n",
    "# Call the ODE solver\n",
    "wsol = odeint(pveq, w0, t, args=(np.asarray(G),difft),atol=abserr, rtol=relerr)"
   ]
  },
  {
   "cell_type": "code",
   "execution_count": 12,
   "id": "e26bc3dd-8d70-46ee-9c76-b961eec7a673",
   "metadata": {},
   "outputs": [],
   "source": [
    "# This could be like one line, right?? BEM \n",
    "\n",
    "# (1) find min/max x,y-coordinate range\n",
    "minx=0\n",
    "maxx=0\n",
    "miny=0\n",
    "maxy=0\n",
    "for tt in range(0,len(wsol),1):\n",
    "  for k in range(0,int(len(wsol[0])/2)):\n",
    "    if wsol[tt][2*k]<minx:\n",
    "      minx=wsol[tt][2*k]\n",
    "    if wsol[tt][2*k]>maxx:\n",
    "      maxx=wsol[tt][2*k]\n",
    "    if wsol[tt][2*k+1]<miny:\n",
    "      miny=wsol[tt][2*k+1]\n",
    "    if wsol[tt][2*k+1]>maxy:\n",
    "      maxy=wsol[tt][2*k+1]"
   ]
  },
  {
   "cell_type": "code",
   "execution_count": 29,
   "id": "6d51ab8a-679c-4689-8a6e-b0038076a391",
   "metadata": {},
   "outputs": [
    {
     "data": {
      "image/png": "[encoded data removed]",
      "text/plain": [
       "<Figure size 360x360 with 1 Axes>"
      ]
     },
     "metadata": {
      "needs_background": "light"
     },
     "output_type": "display_data"
    }
   ],
   "source": [
    "# create a figure and axes\n",
    "fig = plt.figure(figsize=(5,5))\n",
    "ax  = plt.subplot()   \n",
    "ax.clear()\n",
    "ax.grid()\n",
    "ax.set_xlim([minx,maxx])\n",
    "ax.set_ylim([miny,maxy])\n",
    "ax.plot(Circcenterx,Circcentery,'k+',markersize=6)\n",
    "ax.set_xlabel('x')\n",
    "ax.set_ylabel('y')\n",
    "\n",
    "# for tt in range(0,len(wsol),1):  ## was like 400 frames \n",
    "tt = 1\n",
    "for k in range(0,int(len(wsol[0])/2)):\n",
    "    if G[k]>0.:\n",
    "      farbe='r' # plot cyclonic vortices red\n",
    "    if G[k]<0.:\n",
    "      farbe='b' # plot anticyclonic vortices blue\n",
    "    if G[k]==0.:\n",
    "      farbe='k' # plot streamers black\n",
    "    ax.scatter(wsol[tt][2*k],wsol[tt][2*k+1],s=[sizeofpointinplot[k]],color=farbe)"
   ]
  },
  {
   "cell_type": "markdown",
   "id": "1267dd76-ca7d-4e1f-99b5-01277fb03cd2",
   "metadata": {},
   "source": [
    "# Animate it "
   ]
  },
  {
   "cell_type": "code",
   "execution_count": 14,
   "id": "bcf31abd-e7c1-4b59-bba1-e825f85259e4",
   "metadata": {},
   "outputs": [],
   "source": [
    "def animate(tt):\n",
    "  print('tt=',tt)\n",
    "  ax.clear()\n",
    "  ax.grid()\n",
    "  ax.set_xlim([minx,maxx])\n",
    "  ax.set_ylim([miny,maxy])\n",
    "  ax.plot(Circcenterx,Circcentery,'k+',markersize=6)\n",
    "  ax.set_xlabel('x')\n",
    "  ax.set_ylabel('y')\n",
    "    # Plot the point vortex motion for each time step\n",
    "  for k in range(0,np.int(len(wsol[0])/2)):\n",
    "    if G[k]>0.:\n",
    "      farbe='r' # plot cyclonic vortices red\n",
    "    if G[k]<0.:\n",
    "      farbe='b' # plot anticyclonic vortices blue\n",
    "    if G[k]==0.:\n",
    "      farbe='k' # plot streamers black\n",
    "    ax.scatter(wsol[tt][2*k],wsol[tt][2*k+1],s=[sizeofpointinplot[k]],color=farbe)\n",
    "#\n",
    "  ax.set_title('%s\\ncirculation center = (%.2f,%.2f),t=%.2f s' %(plottitle,Circcenterx,Circcentery,t[tt]))\n",
    "#  plt.savefig('%s%s_%06d.png' %(figfolder,figprefix,tt))\n",
    "#  plt.close(fig)\n",
    "\n"
   ]
  },
  {
   "cell_type": "code",
   "execution_count": 17,
   "id": "aa2e5ba0-08fd-4280-880f-a8137c532a0a",
   "metadata": {},
   "outputs": [
    {
     "data": {
      "text/plain": [
       "<matplotlib.animation.FuncAnimation at 0x161d9d7c0>"
      ]
     },
     "execution_count": 17,
     "metadata": {},
     "output_type": "execute_result"
    }
   ],
   "source": [
    "anim = animation.FuncAnimation(fig, animate,48,interval=1000, blit=False)\n",
    "\n",
    "anim"
   ]
  },
  {
   "cell_type": "code",
   "execution_count": 19,
   "id": "087c4571-440e-45d9-9bf0-c487ac6444f8",
   "metadata": {},
   "outputs": [
    {
     "name": "stderr",
     "output_type": "stream",
     "text": [
      "<ipython-input-19-6ebedab27258>:1: UserWarning: Matplotlib is currently using module://ipykernel.pylab.backend_inline, which is a non-GUI backend, so cannot show the figure.\n",
      "  fig.show()\n"
     ]
    }
   ],
   "source": [
    "fig.show()"
   ]
  },
  {
   "cell_type": "code",
   "execution_count": null,
   "id": "7f50829c-818e-42ca-b8f9-987cd5cd9d6e",
   "metadata": {},
   "outputs": [],
   "source": []
  }
 ],
 "metadata": {
  "kernelspec": {
   "display_name": "Python 3",
   "language": "python",
   "name": "python3"
  },
  "language_info": {
   "codemirror_mode": {
    "name": "ipython",
    "version": 3
   },
   "file_extension": ".py",
   "mimetype": "text/x-python",
   "name": "python",
   "nbconvert_exporter": "python",
   "pygments_lexer": "ipython3",
   "version": "3.9.5"
  }
 },
 "nbformat": 4,
 "nbformat_minor": 5
}
