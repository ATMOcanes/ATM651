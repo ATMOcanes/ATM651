{
 "cells": [
  {
   "cell_type": "markdown",
   "id": "7a51d098-8682-46e7-81b3-7e3668db066f",
   "metadata": {},
   "source": [
    "# Solving the $\\omega$ equation by Greens function\n",
    "### in a small patch of atmosphere, treated as a Cartesian xyz block"
   ]
  },
  {
   "attachments": {
    "1defa317-650a-45e6-ac0b-52d60e88a919.png": {
     "image/png": "[encoded data removed]"
    }
   },
   "cell_type": "markdown",
   "id": "ca4c6633-33f0-4d47-89c9-f5ab7135bfc0",
   "metadata": {},
   "source": [
    "### Wikipedia's version\n",
    "![image.png](attachment:1defa317-650a-45e6-ac0b-52d60e88a919.png) \n",
    "with $\\sigma$ = static stability parameter from dT/dt term ω$\\sigma$"
   ]
  },
  {
   "cell_type": "markdown",
   "id": "e8e1be8f-03c8-4251-b7d9-fa750b35ea8d",
   "metadata": {},
   "source": [
    "## The Idea: \n",
    "\n",
    "#### Invert the operator on the LHS to obtain $\\omega$, treating the RHS terms as a 3D array of \"forcing\" in some finite patch of the atmosphere, where we will treat f and $\\sigma$ as constants. (Those forcing terms are easily computed elsewhere, they just involve differentiation and multiplication of data arrays). \n",
    "\n",
    "### To do the inversion of the 3D array of forcing, there are four steps: \n",
    "\n",
    "1. Enforce $\\omega$ = 0 at the surface using an [\"image\" or mirrored copy](https://en.wikipedia.org/wiki/Method_of_images) of the forcing, in a fictitious flipped copy of the atmosphere below the surface. This doubles the forcing array size in the vertical. \n",
    "2. Pad the doubled forcing data array with zeros on all sides. This increases the now-doubled initial array size by (3x3x3) = 27 times. So it's a 52x bigger array than the original forcing.\n",
    "3. For each gridpoint in the forcing, the induced $\\omega$ is proportional to 1/distance (1/r), rescaling distance in pressure coordinates according to $r = [\\Delta x^2 + \\Delta y^2 + \\Delta z^2]^{1/2} = [\\Delta x^2 + \\Delta y^2 + (\\sigma/f_o^2)\\Delta p^2]^{1/2}$. So we loop over all the forcing points by rolling the array systematically, and sum up all these induced contributions, dividing by an array of r we have to calculate just once.\n",
    "4. In the results array, shave off all the padded and mirrored regions to recover the result in the original array size and shape of the forcing. "
   ]
  },
  {
   "cell_type": "code",
   "execution_count": null,
   "id": "fad6d96f-4b6b-42da-8b25-27acc3cff04a",
   "metadata": {},
   "outputs": [],
   "source": []
  },
  {
   "cell_type": "code",
   "execution_count": null,
   "id": "1f94a7f3-74cb-4552-9ba6-9571748af797",
   "metadata": {},
   "outputs": [],
   "source": []
  },
  {
   "cell_type": "code",
   "execution_count": 1,
   "id": "fe67bfd9-2c5b-425f-8742-20db18e44484",
   "metadata": {},
   "outputs": [],
   "source": [
    "import xarray as xr\n",
    "import numpy as np \n",
    "import matplotlib.pyplot as plt"
   ]
  },
  {
   "cell_type": "code",
   "execution_count": null,
   "id": "cc6dbab3-2778-4a77-88d7-e68ddf7dcf65",
   "metadata": {},
   "outputs": [],
   "source": []
  }
 ],
 "metadata": {
  "kernelspec": {
   "display_name": "Python 3 (ipykernel)",
   "language": "python",
   "name": "python3"
  },
  "language_info": {
   "codemirror_mode": {
    "name": "ipython",
    "version": 3
   },
   "file_extension": ".py",
   "mimetype": "text/x-python",
   "name": "python",
   "nbconvert_exporter": "python",
   "pygments_lexer": "ipython3",
   "version": "3.8.17"
  }
 },
 "nbformat": 4,
 "nbformat_minor": 5
}
