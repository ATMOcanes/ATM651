{
 "cells": [
  {
   "cell_type": "markdown",
   "metadata": {},
   "source": [
    "### ATM 651 Introduction of Atmospheric Dynamics: Project option\n",
    "University of Miami, RSMAS. 2019 Fall \n",
    "### 2D Shallow water equation model \n",
    "This notebook is adapted from [Dr. Paul Connally's webpage.](https://personalpages.manchester.ac.uk/staff/paul.connolly/teaching/practicals/shallow_water_equations.html)\n",
    "This model integrates the **LINEARIZED** [shallow water equations](https://en.wikipedia.org/wiki/Shallow_water_equations) in conservative form in a channel using the [Lax-Wendroff method](https://en.wikipedia.org/wiki/Lax%E2%80%93Wendroff_method), a numerical method for the solution of hyperbolic partial differential equations, based on [finite differences](https://en.wikipedia.org/wiki/Finite_difference_method). It is second-order accurate in both space and time."
   ]
  },
  {
   "cell_type": "code",
   "execution_count": 23,
   "metadata": {},
   "outputs": [],
   "source": [
    "import numpy as np\n",
    "import sys\n",
    "import os\n",
    "from scipy.special import erfcinv as erfcinv\n",
    "import tqdm as tqdm  # pause jupyter and pip install tqdm if necessary\n",
    "import time\n",
    "import scipy.io as sio\n",
    "import lax_wendroff_Hsrc as lw"
   ]
  },
  {
   "cell_type": "code",
   "execution_count": 24,
   "metadata": {},
   "outputs": [],
   "source": [
    "import warnings\n",
    "warnings.simplefilter(\"ignore\")"
   ]
  },
  {
   "cell_type": "markdown",
   "metadata": {},
   "source": [
    "### Main code\n",
    "There are options for different simulations and flexible parameters"
   ]
  },
  {
   "cell_type": "code",
   "execution_count": 31,
   "metadata": {},
   "outputs": [
    {
     "data": {
      "text/plain": [
       "31.32091952673165"
      ]
     },
     "execution_count": 31,
     "metadata": {},
     "output_type": "execute_result"
    }
   ],
   "source": [
    "# SECTION 0: Definitions (normally don't modify this section)\n",
    "# Possible orographies\n",
    "FLAT=0;\n",
    "\n",
    "# ------------------------------------------------------------------\n",
    "# SECTION 1: Configuration\n",
    "g    = 9.81;                # Acceleration due to gravity (m/s2)\n",
    "f    = 1e-4;              # Coriolis parameter (s-1)\n",
    "\n",
    "#f=0.;\n",
    "beta = 1.6e-11;             # Meridional gradient of f (s-1m-1)\n",
    "#beta=0.;\n",
    "#beta=5e-10;\n",
    "\n",
    "output_interval = 24.*3600.; # Time between outputs (s)\n",
    "forecast_length = 30*24*3600.0; # Forecast length (s)\n",
    "\n",
    "orography = FLAT\n",
    "initially_geostrophic = True;   # Can be \"True\" or \"False\"\n",
    "add_random_height_noise = False; # Can be \"True\" or \"False\"\n",
    "\n",
    "nx=254; # Number of zonal gridpoints\n",
    "ny=128;  # Number of meridional gridpoints\n",
    "\n",
    "dx=100.0e3; # Zonal grid spacing (m)\n",
    "dy=dx;      # Meridional grid spacing\n",
    "\n",
    "\n",
    "# ------------------------------------------------------------------\n",
    "# SECTION 2: Act on the configuration information\n",
    "\n",
    "x=np.mgrid[0:nx]*dx; # Zonal distance coordinate (m)\n",
    "y=np.mgrid[0:ny]*dy; # Meridional distance coordinate (m)\n",
    "[Y,X] = np.meshgrid(y,x); # Create matrices of the coordinate variables\n",
    "\n",
    "# Create the orography field \"H\"\n",
    "if orography == FLAT:\n",
    "    H = np.zeros((nx, ny));\n",
    "\n",
    "# Create the initial height field (in meters)\n",
    "height = 100.*np.ones((nx, ny))\n",
    "\n",
    "# Specify the range of heights to plot in metres\n",
    "plot_height_range = np.array([95., 105.]);\n",
    "\n",
    "# external heat source adding to h equation\n",
    "hsrc = H.copy()\n",
    "hsrc[np.where(np.sqrt((X-np.mean(x))**2.+(Y-np.mean(y))**2.) <= 1000e3)] = -1E-4 # m/s\n",
    "\n",
    "HEATING_OFF_TIME = 2*24*3600.0\n",
    "\n",
    "\n",
    "# Calculate linear wave speed \n",
    "cgrav = np.sqrt(g*np.mean(height))\n",
    "cgrav"
   ]
  },
  {
   "cell_type": "code",
   "execution_count": 32,
   "metadata": {},
   "outputs": [
    {
     "data": {
      "text/plain": [
       "159.63771420352523"
      ]
     },
     "execution_count": 32,
     "metadata": {},
     "output_type": "execute_result"
    }
   ],
   "source": [
    "dt = dx/cgrav /20. # factor of 5 or greater for safe time integration\n",
    "\n",
    "# Set up grid and output arrays \n",
    "nt = int(np.fix(forecast_length/dt)+1); # Number of timesteps\n",
    "timesteps_between_outputs = np.fix(output_interval/dt);\n",
    "noutput = int(np.ceil(nt/timesteps_between_outputs)); # Number of output frames\n",
    "\n",
    "dt"
   ]
  },
  {
   "cell_type": "code",
   "execution_count": 33,
   "metadata": {},
   "outputs": [
    {
     "name": "stdout",
     "output_type": "stream",
     "text": [
      "Time = 0.000000 hours (max 30.000000); max(|u|) = 0.000000\n",
      "Time = 23.990001 hours (max 30.000000); max(|u|) = 1.352118\n",
      "Time = 47.980002 hours (max 30.000000); max(|u|) = 2.563657\n",
      "Time = 71.970003 hours (max 30.000000); max(|u|) = 2.367241\n",
      "Time = 95.960004 hours (max 30.000000); max(|u|) = 2.204398\n",
      "Time = 119.950005 hours (max 30.000000); max(|u|) = 2.174828\n",
      "Time = 143.940006 hours (max 30.000000); max(|u|) = 2.045164\n",
      "Time = 167.930007 hours (max 30.000000); max(|u|) = 2.019507\n",
      "Time = 191.920008 hours (max 30.000000); max(|u|) = 1.962617\n",
      "Time = 215.910008 hours (max 30.000000); max(|u|) = 1.928198\n",
      "Time = 239.900009 hours (max 30.000000); max(|u|) = 1.889617\n",
      "Time = 263.890010 hours (max 30.000000); max(|u|) = 1.844571\n",
      "Time = 287.880011 hours (max 30.000000); max(|u|) = 1.835131\n",
      "Time = 311.870012 hours (max 30.000000); max(|u|) = 1.769892\n",
      "Time = 335.860013 hours (max 30.000000); max(|u|) = 1.715859\n",
      "Time = 359.850014 hours (max 30.000000); max(|u|) = 1.683258\n",
      "Time = 383.840015 hours (max 30.000000); max(|u|) = 1.647519\n",
      "Time = 407.830016 hours (max 30.000000); max(|u|) = 1.613259\n",
      "Time = 431.820017 hours (max 30.000000); max(|u|) = 1.565683\n",
      "Time = 455.810018 hours (max 30.000000); max(|u|) = 1.535098\n",
      "Time = 479.800019 hours (max 30.000000); max(|u|) = 1.509601\n",
      "Time = 503.790020 hours (max 30.000000); max(|u|) = 1.468329\n",
      "Time = 527.780021 hours (max 30.000000); max(|u|) = 1.437574\n",
      "Time = 551.770022 hours (max 30.000000); max(|u|) = 1.409665\n",
      "Time = 575.760023 hours (max 30.000000); max(|u|) = 1.381263\n",
      "Time = 599.750024 hours (max 30.000000); max(|u|) = 1.350663\n",
      "Time = 623.740024 hours (max 30.000000); max(|u|) = 1.322193\n",
      "Time = 647.730025 hours (max 30.000000); max(|u|) = 1.296552\n",
      "Time = 671.720026 hours (max 30.000000); max(|u|) = 1.268387\n",
      "Time = 695.710027 hours (max 30.000000); max(|u|) = 1.241248\n",
      "Time = 719.700028 hours (max 30.000000); max(|u|) = 1.214370\n",
      "Run completed successfully\n"
     ]
    }
   ],
   "source": [
    "# Coriolis parameter as a matrix of values varying in y only\n",
    "F = f+beta*(Y-np.mean(y));\n",
    "\n",
    "# Initialize the wind to rest\n",
    "u=np.zeros((nx, ny));\n",
    "v=np.zeros((nx, ny));\n",
    "\n",
    "# Define h as the depth of the fluid (whereas \"height\" is the height of\n",
    "# the upper surface)\n",
    "h = height - H;\n",
    "\n",
    "# Initialize the 3D arrays where the output data will be stored\n",
    "u_save = np.zeros((nx, ny, noutput));\n",
    "v_save = np.zeros((nx, ny, noutput));\n",
    "h_save = np.zeros((nx, ny, noutput));\n",
    "t_save = np.zeros((noutput,1));\n",
    "\n",
    "# Index to stored data\n",
    "i_save = 0;\n",
    "\n",
    "\n",
    "\n",
    "# ------------------------------------------------------------------\n",
    "# SECTION 3: Main loop\n",
    "for n in range(0,nt):\n",
    "   # Every fixed number of timesteps we store the fields\n",
    "    if np.mod(n,timesteps_between_outputs) == 0:\n",
    "   \n",
    "        max_u = np.sqrt(np.max(u[:]*u[:]+v[:]*v[:]));\n",
    "      \n",
    "        print(\"Time = %f hours (max %f); max(|u|) = %f\"  \n",
    "           % ((n)*dt/3600., forecast_length/3600./24., max_u) )\n",
    "   \n",
    "        u_save[:,:,i_save] = u;\n",
    "        v_save[:,:,i_save] = v;\n",
    "        h_save[:,:,i_save] = h;\n",
    "        t_save[i_save] = (n)*dt;\n",
    "        i_save = i_save+1;\n",
    "  \n",
    "\n",
    "   # Compute the accelerations\n",
    "    u_accel = F[1:-1,1:-1]*v[1:-1,1:-1] \\\n",
    "              - (g/(2.*dx))*(H[2:,1:-1]-H[0:-2,1:-1]);\n",
    "    v_accel = -F[1:-1,1:-1]*u[1:-1,1:-1] \\\n",
    "              - (g/(2.*dy))*(H[1:-1,2:]-H[1:-1,0:-2]);\n",
    "    h_accel = hsrc * (n*dt < HEATING_OFF_TIME) # height source (heating, turned off at HEATING_OFF_TIME)\n",
    "\n",
    "   # Call the Lax-Wendroff scheme to move forward one timestep\n",
    "    (unew, vnew, h_new) = lw.lax_wendroff(dx, dy, dt, g, u, v, h, u_accel, v_accel, h_accel);\n",
    "\n",
    "   # Update the wind and height fields, taking care to enforce \n",
    "   # boundary conditions \n",
    "    \"\"\"\n",
    "    u = unew([end 1:end 1],[1 1:end end]);\n",
    "    v = vnew([end 1:end 1],[1 1:end end]);\n",
    "    v(:,[1 end]) = 0;\n",
    "    h(:,2:end-1) = h_new([end 1:end 1],:);\n",
    "    \"\"\"\n",
    "    u[1:-1,1:-1] = unew[0:,0:];\n",
    "    u[[-1,0],1:-1]  = unew[[0,-1],:]\n",
    "    u[1:-1,[0,-1]]  = unew[:,[0,-1]]\n",
    "\n",
    "    v[1:-1,1:-1] = vnew[0:,0:];\n",
    "    v[[-1,0],0]  = vnew[[0,-1],0]\n",
    "    v[1:-1,[0,-1]]  = vnew[:,[0,-1]]\n",
    "   \n",
    "    v[:,[0, -1]] = 0.;\n",
    "\n",
    "    h[1:-1,1:-1] = h_new[0:,0:];\n",
    "    h[[0,-1],1:-1]  = h_new[[-1,0],:]\n",
    "\n",
    "\n",
    "print('Run completed successfully');"
   ]
  },
  {
   "cell_type": "markdown",
   "metadata": {},
   "source": [
    "### plot and save figures"
   ]
  },
  {
   "cell_type": "code",
   "execution_count": 34,
   "metadata": {
    "code_folding": [
     27,
     30
    ]
   },
   "outputs": [
    {
     "name": "stdout",
     "output_type": "stream",
     "text": [
      "Maximum orography height = 0.000000 m\n"
     ]
    }
   ],
   "source": [
    "import matplotlib.pyplot as plt\n",
    "from matplotlib import rc\n",
    "\n",
    "# create a folder in the current directory\n",
    "os.system('rm -r fig');os.system('mkdir fig')\n",
    "\n",
    "#f,(ax1, ax2) = plt.subplots(2, sharex=True, sharey=False)\n",
    "f=plt.figure(figsize=(12,10))\n",
    "ax1=plt.subplot(2,1,1)\n",
    "ax2=plt.subplot(2,1,2)\n",
    "\n",
    "#ax1.autoscale(enable=True, axis='y', tight=True)\n",
    "\n",
    "# Axis units are thousands of kilometers (x and y are in metres)\n",
    "x_1000km = x * 1.e-6\n",
    "y_1000km = y * 1.e-6\n",
    "\n",
    "# Set colormap to have 64 entries\n",
    "ncol=64;\n",
    "\n",
    "# Interval between arrows in the velocity vector plot\n",
    "interval = 6;\n",
    "\n",
    "# Set this to \"True\" to save each frame as a png file\n",
    "plot_frames = True;\n",
    "\n",
    "# Decide whether to show height in metres or km\n",
    "if np.mean(plot_height_range) > 1000:\n",
    "    height_scale = 0.001;\n",
    "    height_title = 'Height (km)';\n",
    "else:\n",
    "    height_scale = 1;\n",
    "    height_title = 'Height (m)';\n",
    "\n",
    "\n",
    "print('Maximum orography height = %f m' % np.max(H[:]));\n",
    "u = np.squeeze(u_save[:,:,0]);\n",
    "vorticity = np.zeros(np.shape(u));\n",
    "\n",
    "# Loop through the frames of the animation\n",
    "for it in range(0,noutput):\n",
    "\n",
    "    # Extract the height and velocity components for this frame\n",
    "    h = np.squeeze(h_save[:,:,it]);\n",
    "    u = np.squeeze(u_save[:,:,it]);\n",
    "    v = np.squeeze(v_save[:,:,it]);\n",
    "\n",
    "    # Compute the vorticity\n",
    "    vorticity[1:-1,1:-1] = (1./dy)*(u[1:-1,0:-2]-u[1:-1,2:]) \\\n",
    "      + (1./dx)*(v[2:,1:-1]-v[0:-2,1:-1]);\n",
    "  \n",
    "# First plot the height field\n",
    "    if it==0:\n",
    "\n",
    "        # Plot the height field\n",
    "        im=ax1.imshow(np.transpose(h+H), \\\n",
    "         extent=[np.min(x_1000km),np.max(x_1000km),np.min(y_1000km),np.max(y_1000km)], \\\n",
    "         cmap='jet')\n",
    "        # Set other axes properties and plot a colorbar\n",
    "        cb1=plt.colorbar(im,ax=ax1,shrink=0.5)\n",
    "        cb1.set_label('height (m)')\n",
    "        # Contour the terrain:\n",
    "        cs=ax1.contour(x_1000km,y_1000km,np.transpose(H),levels=np.arange(0,100,10), colors='k')\n",
    "\n",
    "        # Plot the velocity vectors\n",
    "        Q = ax1.quiver(x_1000km[2::interval],y_1000km[2::interval], \\\n",
    "         np.transpose(u[2::interval,2::interval]), \\\n",
    "         np.transpose(v[2::interval,2::interval]), scale=1,scale_units='xy',pivot='mid')\n",
    "        ax1.set_ylabel('Y distance (1000s of km)');\n",
    "        ax1.set_title(height_title);\n",
    "        tx1=ax1.text(0, np.max(y_1000km), 'Time = %.1f hours' % (t_save[it]/3600.));\n",
    "\n",
    "        # Now plot the vorticity\n",
    "        im2=ax2.imshow(np.transpose(vorticity), \\\n",
    "         extent=[np.min(x_1000km),np.max(x_1000km),np.min(y_1000km),np.max(y_1000km)], \\\n",
    "         cmap='jet',vmax=1e-5,vmin=-1e-5)\n",
    "        # Set other axes properties and plot a colorbar\n",
    "        cb2=plt.colorbar(im2,ax=ax2,shrink=0.5)\n",
    "        cb2.set_label('vorticity (s$^{-1}$)')\n",
    "        ax2.set_xlabel('X distance (1000s of km)');\n",
    "        ax2.set_ylabel('Y distance (1000s of km)');\n",
    "        ax2.set_title('Relative vorticity (s$^{-1}$)');\n",
    "        tx2=ax2.text(0, np.max(y_1000km), 'Time = %.1f hours' % (t_save[it]/3600.));\n",
    "        \n",
    "        plt.tight_layout()\n",
    "\n",
    "    else:\n",
    "        # top plot:\n",
    "        im.set_data(np.transpose(H+h))\n",
    "        cs.set_array(np.transpose(h))\n",
    "        Q.set_UVC(np.transpose(u[2::interval,2::interval]), \\\n",
    "               np.transpose(v[2::interval,2::interval]))\n",
    "        tx1.set_text('Time = %.1f hours' % (t_save[it]/3600.));\n",
    "\n",
    "        # bottom plot:\n",
    "        im2.set_data(np.transpose(vorticity))\n",
    "        tx2.set_text('Time = %.1f hours' % (t_save[it]/3600.));\n",
    "\n",
    "    im.set_clim((plot_height_range));\n",
    "    im2.set_clim((-1e-5,1e-5));\n",
    "    ax1.axis((0., np.max(x_1000km), 0., np.max(y_1000km)));\n",
    "    ax2.axis((0., np.max(x_1000km), 0., np.max(y_1000km)));\n",
    "    \n",
    "    # To make an animation we can save the frames as a \n",
    "    # sequence of images\n",
    "    if plot_frames:\n",
    "        plt.savefig('./fig/frame%03d.png' % it,format='png',dpi=200)\n",
    "\n",
    "#    plt.pause(0.1)"
   ]
  },
  {
   "cell_type": "code",
   "execution_count": 35,
   "metadata": {},
   "outputs": [
    {
     "name": "stdout",
     "output_type": "stream",
     "text": [
      "frame000.png frame006.png frame012.png frame018.png frame024.png frame030.png\r\n",
      "frame001.png frame007.png frame013.png frame019.png frame025.png\r\n",
      "frame002.png frame008.png frame014.png frame020.png frame026.png\r\n",
      "frame003.png frame009.png frame015.png frame021.png frame027.png\r\n",
      "frame004.png frame010.png frame016.png frame022.png frame028.png\r\n",
      "frame005.png frame011.png frame017.png frame023.png frame029.png\r\n"
     ]
    }
   ],
   "source": [
    "!ls ./fig/"
   ]
  },
  {
   "cell_type": "code",
   "execution_count": 36,
   "metadata": {},
   "outputs": [],
   "source": [
    "!open ./fig/frame???.png"
   ]
  },
  {
   "cell_type": "code",
   "execution_count": 12,
   "metadata": {},
   "outputs": [],
   "source": [
    "!rm ./fig/frame???.png"
   ]
  },
  {
   "cell_type": "code",
   "execution_count": null,
   "metadata": {},
   "outputs": [],
   "source": [
    "plt.imshow(hsrc.transpose())"
   ]
  },
  {
   "cell_type": "code",
   "execution_count": null,
   "metadata": {},
   "outputs": [],
   "source": [
    "hsrc.max()"
   ]
  },
  {
   "cell_type": "code",
   "execution_count": null,
   "metadata": {},
   "outputs": [],
   "source": []
  }
 ],
 "metadata": {
  "anaconda-cloud": {},
  "kernelspec": {
   "display_name": "Python [default]",
   "language": "python",
   "name": "python3"
  },
  "language_info": {
   "codemirror_mode": {
    "name": "ipython",
    "version": 3
   },
   "file_extension": ".py",
   "mimetype": "text/x-python",
   "name": "python",
   "nbconvert_exporter": "python",
   "pygments_lexer": "ipython3",
   "version": "3.5.5"
  }
 },
 "nbformat": 4,
 "nbformat_minor": 2
}
